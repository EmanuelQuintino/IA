{
 "cells": [
  {
   "cell_type": "markdown",
   "id": "348577d7",
   "metadata": {},
   "source": [
    "# Class NLP - Neural Language Processing "
   ]
  },
  {
   "cell_type": "code",
   "execution_count": 1,
   "id": "1fc5cb5c",
   "metadata": {},
   "outputs": [
    {
     "name": "stderr",
     "output_type": "stream",
     "text": [
      "c:\\Users\\emanu\\AppData\\Local\\Programs\\Python\\Python313\\Lib\\site-packages\\tqdm\\auto.py:21: TqdmWarning: IProgress not found. Please update jupyter and ipywidgets. See https://ipywidgets.readthedocs.io/en/stable/user_install.html\n",
      "  from .autonotebook import tqdm as notebook_tqdm\n"
     ]
    }
   ],
   "source": [
    "from transformers import pipeline"
   ]
  },
  {
   "cell_type": "markdown",
   "id": "2e0a64e8",
   "metadata": {},
   "source": [
    "## Sentiment Analysis"
   ]
  },
  {
   "cell_type": "code",
   "execution_count": 2,
   "id": "bd42fb6e",
   "metadata": {},
   "outputs": [
    {
     "name": "stderr",
     "output_type": "stream",
     "text": [
      "No model was supplied, defaulted to distilbert/distilbert-base-uncased-finetuned-sst-2-english and revision 714eb0f (https://huggingface.co/distilbert/distilbert-base-uncased-finetuned-sst-2-english).\n",
      "Using a pipeline without specifying a model name and revision in production is not recommended.\n"
     ]
    },
    {
     "name": "stdout",
     "output_type": "stream",
     "text": [
      "WARNING:tensorflow:From c:\\Users\\emanu\\AppData\\Local\\Programs\\Python\\Python313\\Lib\\site-packages\\tf_keras\\src\\losses.py:2976: The name tf.losses.sparse_softmax_cross_entropy is deprecated. Please use tf.compat.v1.losses.sparse_softmax_cross_entropy instead.\n",
      "\n"
     ]
    },
    {
     "name": "stderr",
     "output_type": "stream",
     "text": [
      "Device set to use cpu\n"
     ]
    }
   ],
   "source": [
    "classifier = pipeline(\"sentiment-analysis\")"
   ]
  },
  {
   "cell_type": "code",
   "execution_count": 3,
   "id": "16403a65",
   "metadata": {},
   "outputs": [
    {
     "data": {
      "text/plain": [
       "<transformers.pipelines.text_classification.TextClassificationPipeline at 0x12488503620>"
      ]
     },
     "execution_count": 3,
     "metadata": {},
     "output_type": "execute_result"
    }
   ],
   "source": [
    "classifier"
   ]
  },
  {
   "cell_type": "code",
   "execution_count": 4,
   "id": "8ab13ba1",
   "metadata": {},
   "outputs": [
    {
     "data": {
      "text/plain": [
       "[{'label': 'POSITIVE', 'score': 0.9998782873153687}]"
      ]
     },
     "execution_count": 4,
     "metadata": {},
     "output_type": "execute_result"
    }
   ],
   "source": [
    "text = \"I love you!\"\n",
    "classifier(text)"
   ]
  },
  {
   "cell_type": "code",
   "execution_count": 17,
   "id": "9ad448b9",
   "metadata": {},
   "outputs": [
    {
     "data": {
      "text/plain": [
       "[{'label': 'NEGATIVE', 'score': 0.9972622394561768}]"
      ]
     },
     "execution_count": 17,
     "metadata": {},
     "output_type": "execute_result"
    }
   ],
   "source": [
    "classifier(\"You not my friend\")"
   ]
  },
  {
   "cell_type": "code",
   "execution_count": null,
   "id": "4ca192a8",
   "metadata": {},
   "outputs": [
    {
     "data": {
      "text/plain": [
       "[{'label': 'POSITIVE', 'score': 0.9998366832733154},\n",
       " {'label': 'NEGATIVE', 'score': 0.991818904876709}]"
      ]
     },
     "metadata": {},
     "output_type": "display_data"
    }
   ],
   "source": [
    "classifier([\"Cool!\", \"Danger!\"])"
   ]
  },
  {
   "cell_type": "code",
   "execution_count": null,
   "id": "9db2d620",
   "metadata": {},
   "outputs": [
    {
     "data": {
      "text/plain": [
       "[{'label': 'POSITIVE', 'score': 0.9998366832733154},\n",
       " {'label': 'NEGATIVE', 'score': 0.991818904876709}]"
      ]
     },
     "metadata": {},
     "output_type": "display_data"
    }
   ],
   "source": [
    "classifier([\"Cool!\", \"Danger!\"])"
   ]
  },
  {
   "cell_type": "markdown",
   "id": "d371725c",
   "metadata": {},
   "source": [
    "## Translate"
   ]
  },
  {
   "cell_type": "code",
   "execution_count": 6,
   "id": "d2382957",
   "metadata": {},
   "outputs": [
    {
     "name": "stderr",
     "output_type": "stream",
     "text": [
      "Device set to use cpu\n"
     ]
    }
   ],
   "source": [
    "translator = pipeline(\n",
    "  \"translation\",\n",
    "  model=\"facebook/mbart-large-50-many-to-many-mmt\",\n",
    "  tokenizer=\"facebook/mbart-large-50-many-to-many-mmt\",\n",
    "  use_fast=False\n",
    ")"
   ]
  },
  {
   "cell_type": "code",
   "execution_count": 10,
   "id": "b0595278",
   "metadata": {},
   "outputs": [
    {
     "data": {
      "text/plain": [
       "[{'translation_text': 'A inteligência artificial está a transformar o mundo'}]"
      ]
     },
     "execution_count": 10,
     "metadata": {},
     "output_type": "execute_result"
    }
   ],
   "source": [
    "text = \"Artificial Intelligence is transforming the world\"\n",
    "translator(text, src_lang=\"en_XX\", tgt_lang=\"pt_XX\")\n"
   ]
  },
  {
   "cell_type": "code",
   "execution_count": 12,
   "id": "855efd6e",
   "metadata": {},
   "outputs": [
    {
     "data": {
      "text/plain": [
       "[{'translation_text': \"Work isn't a waste of time; a waste of time is having to work.\"}]"
      ]
     },
     "execution_count": 12,
     "metadata": {},
     "output_type": "execute_result"
    }
   ],
   "source": [
    "text = \"O trabalho não é ruim, o ruim é ter que trabalhar\"\n",
    "translator(text, src_lang=\"pt_XX\", tgt_lang=\"en_XX\")"
   ]
  },
  {
   "cell_type": "markdown",
   "id": "5ba0dd8d",
   "metadata": {},
   "source": [
    "## Generator"
   ]
  },
  {
   "cell_type": "code",
   "execution_count": 13,
   "id": "94504123",
   "metadata": {},
   "outputs": [
    {
     "name": "stderr",
     "output_type": "stream",
     "text": [
      "Device set to use cpu\n"
     ]
    }
   ],
   "source": [
    "generator = pipeline(\"text-generation\", model=\"gpt2\")"
   ]
  },
  {
   "cell_type": "code",
   "execution_count": null,
   "id": "4d60ef8d",
   "metadata": {},
   "outputs": [
    {
     "name": "stderr",
     "output_type": "stream",
     "text": [
      "Setting `pad_token_id` to `eos_token_id`:50256 for open-end generation.\n",
      "Both `max_new_tokens` (=256) and `max_length`(=50) seem to have been set. `max_new_tokens` will take precedence. Please refer to the documentation for more information. (https://huggingface.co/docs/transformers/main/en/main_classes/text_generation)\n"
     ]
    },
    {
     "name": "stdout",
     "output_type": "stream",
     "text": [
      "[{'generated_text': 'The Artificial Intelligence is a book on how to design and build artificial intelligence hardware that can be used in any product. I\\'ve been working on this project for a couple of years now, and I\\'m going to be focusing on data manipulation over the next few weeks.\\n\\nIf you\\'ve ever been interested in AI, you should now join me. I\\'ve been involved in AI development since the mid-90s, and I have a great deal of experience in machine learning. I\\'m also a great writer, and I\\'m also an expert in many fields. I\\'ve been talking with numerous companies and organizations around the world about designing and building AI hardware for their products, and I\\'ve also been working with researchers around the world to create and build AI hardware for their products.\\n\\nThere\\'s an interesting book I\\'m working on called A Real Machine Learning Approach to AI written by a PhD student at the Stanford University Computer Science Research Institute. The book is called \"AI for the Future\" and is described as a \"high-level approach to artificial intelligence that combines some of the most well-known approaches to AI, such as deep learning and machine learning, into one well-understood concept.\"\\n\\nYou can read the full article on Machine Learning and Artificial Intelligence here.\\n\\nIf'}]\n"
     ]
    }
   ],
   "source": [
    "prompt = \"The Artificial Intelligence is\"\n",
    "answer = generator(prompt, max_length = 20, num_return_sequences=1, do_sample=True)\n",
    "print(answer)"
   ]
  }
 ],
 "metadata": {
  "kernelspec": {
   "display_name": "Python 3",
   "language": "python",
   "name": "python3"
  },
  "language_info": {
   "codemirror_mode": {
    "name": "ipython",
    "version": 3
   },
   "file_extension": ".py",
   "mimetype": "text/x-python",
   "name": "python",
   "nbconvert_exporter": "python",
   "pygments_lexer": "ipython3",
   "version": "3.13.7"
  }
 },
 "nbformat": 4,
 "nbformat_minor": 5
}
